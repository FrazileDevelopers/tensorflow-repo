{
 "cells": [
  {
   "cell_type": "code",
   "execution_count": 1,
   "metadata": {},
   "outputs": [
    {
     "output_type": "stream",
     "name": "stdout",
     "text": "2.0.0\n"
    }
   ],
   "source": [
    "import tensorflow as tf\n",
    "print(tf.__version__)"
   ]
  },
  {
   "cell_type": "code",
   "execution_count": 2,
   "metadata": {},
   "outputs": [],
   "source": [
    "from tensorflow.keras.models import Model\n",
    "from tensorflow.keras.layers import Dense, Dropout, Softmax, concatenate"
   ]
  },
  {
   "cell_type": "code",
   "execution_count": 3,
   "metadata": {},
   "outputs": [],
   "source": [
    "# Build the model using model subclass API\n",
    "\n",
    "class MyModel(Model):\n",
    "  \n",
    "  def __init__(self):\n",
    "    super(MyModel, self).__init__()\n",
    "    self.dense_1 = Dense(64, activation='relu')\n",
    "    self.dense_2 = Dense(10)\n",
    "    \n",
    "  def call(self, inputs):\n",
    "    x = self.dense_1(inputs)\n",
    "    return self.dense_2(x)"
   ]
  },
  {
   "cell_type": "code",
   "execution_count": 4,
   "metadata": {},
   "outputs": [
    {
     "output_type": "stream",
     "name": "stdout",
     "text": "Model: \"my_model\"\n_________________________________________________________________\nLayer (type)                 Output Shape              Param #   \n=================================================================\ndense (Dense)                multiple                  704       \n_________________________________________________________________\ndense_1 (Dense)              multiple                  650       \n=================================================================\nTotal params: 1,354\nTrainable params: 1,354\nNon-trainable params: 0\n_________________________________________________________________\n"
    }
   ],
   "source": [
    "# Print the model summary\n",
    "model = MyModel()\n",
    "model(tf.random.uniform([1,10]))\n",
    "model.summary()"
   ]
  },
  {
   "cell_type": "code",
   "execution_count": 5,
   "metadata": {},
   "outputs": [],
   "source": [
    "# Build the model by using training attribute and drop out layer.\n",
    "\n",
    "class MyModel(Model):\n",
    "    def __init__(self):\n",
    "        super(MyModel, self).__init__()\n",
    "        self.dense_1 = Dense(64, activation='relu')\n",
    "        self.dense_2 = Dense(10)\n",
    "        self.dropout = Dropout(0.4)\n",
    "    \n",
    "    def call(self, inputs, training=True):\n",
    "        x = self.dense_1(inputs)\n",
    "        if training:\n",
    "            x = self.dropout(x)\n",
    "        return self.dense_2(x)"
   ]
  },
  {
   "cell_type": "code",
   "execution_count": 6,
   "metadata": {},
   "outputs": [
    {
     "output_type": "stream",
     "name": "stdout",
     "text": "Model: \"my_model_1\"\n_________________________________________________________________\nLayer (type)                 Output Shape              Param #   \n=================================================================\ndense_2 (Dense)              multiple                  704       \n_________________________________________________________________\ndense_3 (Dense)              multiple                  650       \n_________________________________________________________________\ndropout (Dropout)            multiple                  0         \n=================================================================\nTotal params: 1,354\nTrainable params: 1,354\nNon-trainable params: 0\n_________________________________________________________________\n"
    }
   ],
   "source": [
    "# Print the model summary\n",
    "model = MyModel()\n",
    "model(tf.random.uniform([1,10]))\n",
    "model.summary()"
   ]
  },
  {
   "cell_type": "code",
   "execution_count": 7,
   "metadata": {},
   "outputs": [],
   "source": [
    "# Build the model\n",
    "\n",
    "class MyModel(Model):\n",
    "  \n",
    "  def __init__(self):\n",
    "    super(MyModel, self).__init__()\n",
    "    self.dense_1 = Dense(64, activation='relu')\n",
    "    self.dense_2 = Dense(10)\n",
    "    self.dense_3 = Dense(5)\n",
    "    self.softmax = Softmax()\n",
    "\n",
    "  def call(self, inputs):\n",
    "    x = self.dense_1(inputs)\n",
    "    y1 = self.dense_2(inputs)\n",
    "    y2 = self.dense_3(y1)\n",
    "    concat = concatenate([x, y2])\n",
    "    return self.softmax(concat)"
   ]
  },
  {
   "cell_type": "code",
   "execution_count": 8,
   "metadata": {},
   "outputs": [
    {
     "output_type": "stream",
     "name": "stdout",
     "text": "Model: \"my_model_2\"\n_________________________________________________________________\nLayer (type)                 Output Shape              Param #   \n=================================================================\ndense_4 (Dense)              multiple                  704       \n_________________________________________________________________\ndense_5 (Dense)              multiple                  110       \n_________________________________________________________________\ndense_6 (Dense)              multiple                  55        \n_________________________________________________________________\nsoftmax (Softmax)            multiple                  0         \n=================================================================\nTotal params: 869\nTrainable params: 869\nNon-trainable params: 0\n_________________________________________________________________\n"
    }
   ],
   "source": [
    "# Print the model summary\n",
    "model = MyModel()\n",
    "model(tf.random.uniform([1,10]))\n",
    "model.summary()"
   ]
  },
  {
   "cell_type": "code",
   "execution_count": 9,
   "metadata": {},
   "outputs": [],
   "source": [
    "from tensorflow.keras.models import Model\n",
    "from tensorflow.keras.layers import Layer, Softmax"
   ]
  },
  {
   "cell_type": "code",
   "execution_count": 10,
   "metadata": {},
   "outputs": [
    {
     "output_type": "stream",
     "name": "stdout",
     "text": "tf.Tensor([[1. 1. 1. 1. 1.]], shape=(1, 5), dtype=float32)\n[<tf.Variable 'Variable:0' shape=(5, 3) dtype=float32, numpy=\narray([[-0.0094725 , -0.00601918, -0.01280425],\n       [ 0.01110634, -0.01996176, -0.02530898],\n       [-0.0170069 , -0.0131667 , -0.04548176],\n       [-0.04163058,  0.02184919,  0.08083019],\n       [ 0.00403528, -0.01694846, -0.05522902]], dtype=float32)>, <tf.Variable 'Variable:0' shape=(3,) dtype=float32, numpy=array([0., 0., 0.], dtype=float32)>]\n"
    }
   ],
   "source": [
    "# Create a Custom Layer\n",
    "\n",
    "class MyLayer(Layer):\n",
    "\n",
    "  def __init__(self, units, input_dim):\n",
    "    super(MyLayer, self).__init__()\n",
    "    self.w = self.add_weight(shape = (input_dim, units),\n",
    "                             initializer = 'random_normal')\n",
    "    self.b = self.add_weight(shape = (units,),\n",
    "                             initializer = 'zeros')\n",
    "    \n",
    "    def call(self, inputs):\n",
    "      return tf.matmul(inputs, self.w) + self.b\n",
    "\n",
    "dense_layer = MyLayer(3, 5)\n",
    "x = tf.ones((1, 5))\n",
    "print(dense_layer(x))\n",
    "print(dense_layer.weights)"
   ]
  },
  {
   "cell_type": "code",
   "execution_count": 11,
   "metadata": {},
   "outputs": [],
   "source": [
    "# Specify trainable weights\n",
    "\n",
    "class MyLayer(Layer):\n",
    "\n",
    "  def __init__(self, units, input_dim):\n",
    "    super(MyLayer, self).__init__()\n",
    "    self.w = self.add_weight(shape = (input_dim, units),\n",
    "                             initializer = 'random_normal',\n",
    "                             trainable=False)\n",
    "    self.b = self.add_weight(shape = (units,),\n",
    "                             initializer = 'zeros',\n",
    "                             trainable=False)\n",
    "    \n",
    "    def call(self, inputs):\n",
    "      return tf.matmul(inputs, self.w) + self.b\n",
    "\n",
    "dense_layer = MyLayer(3, 5)"
   ]
  },
  {
   "cell_type": "code",
   "execution_count": 12,
   "metadata": {},
   "outputs": [
    {
     "output_type": "stream",
     "name": "stdout",
     "text": "trainable weights: 0\nnon-trainable weights: 2\n"
    }
   ],
   "source": [
    "print('trainable weights:', len(dense_layer.trainable_weights))\n",
    "print('non-trainable weights:', len(dense_layer.non_trainable_weights))"
   ]
  },
  {
   "cell_type": "code",
   "execution_count": 13,
   "metadata": {},
   "outputs": [],
   "source": [
    "# Create a custom layer to accumulate means of output values\n",
    "class MyLayerMean(Layer):\n",
    "    def __init__(self, units, input_dim):\n",
    "        super(MyLayerMean, self).__init__()\n",
    "        self.w = self.add_weight(shape = (input_dim, units),\n",
    "                             initializer = 'random_normal')\n",
    "        self.b = self.add_weight(shape = (units,),\n",
    "                             initializer = 'zeros')\n",
    "        self.sum_activation = tf.Variable(initial_value=tf.zeros((units,)),\n",
    "                                      trainable=False)\n",
    "        self.number_call = tf.Variable(initial_value=0,\n",
    "                                   trainable=False)\n",
    "    def call(self, inputs):\n",
    "        activations = tf.matmul(inputs, self.w) + self.b\n",
    "        self.sum_activation.assign_add(tf.reduce_sum(activations, axis=0))\n",
    "        self.number_call.assign_add(inputs.shape[0])\n",
    "        return activations, self.sum_activation / tf.cast(self.number_call, tf.float32)\n",
    "    \n",
    "dense_layer=MyLayerMean(3, 5)"
   ]
  },
  {
   "cell_type": "code",
   "execution_count": 14,
   "metadata": {},
   "outputs": [
    {
     "output_type": "stream",
     "name": "stdout",
     "text": "[0.04916723 0.05229233 0.21493232]\n"
    }
   ],
   "source": [
    "y, activation_means = dense_layer(tf.ones((1, 5)))\n",
    "print(activation_means.numpy())"
   ]
  },
  {
   "cell_type": "code",
   "execution_count": 15,
   "metadata": {},
   "outputs": [],
   "source": [
    "# Create a Dropout layer as a custom layer\n",
    "\n",
    "class MyDropout(Layer):\n",
    "\n",
    "    def __init__(self, rate):\n",
    "        super(MyDropout, self).__init__()\n",
    "        self.rate = rate\n",
    "        \n",
    "    def call(self, inputs):\n",
    "        # Define forward pass for dropout layer\n",
    "        return tf.nn.dropout(inputs, rate=self.rate)"
   ]
  },
  {
   "cell_type": "code",
   "execution_count": 16,
   "metadata": {},
   "outputs": [],
   "source": [
    "# Build the model using custom layers with the model subclassing API\n",
    "\n",
    "class MyModel(Model):\n",
    "\n",
    "    def __init__(self, units_1, input_dim_1, units_2, units_3):\n",
    "        super(MyModel, self).__init__()\n",
    "        # Define layers\n",
    "        self.layer_1 = MyLayer(units_1, input_dim_1)\n",
    "        self.dropout_1 = MyDropout(0.5)\n",
    "        self.layer_2 = MyLayer(units_2, units_1)\n",
    "        self.dropout_2 = MyDropout(0.5)\n",
    "        self.layer_3 = MyLayer(units_3, units_2)\n",
    "        self.softmax = Softmax()\n",
    "    def call(self, inputs):\n",
    "        # Define forward pass\n",
    "        x = self.layer_1(inputs)\n",
    "        x = tf.nn.relu(x)\n",
    "        x = self.dropout_1(x)\n",
    "        x = self.layer_2(x)\n",
    "        x = tf.nn.relu(x)\n",
    "        x = self.dropout_2(x)\n",
    "        x = self.layer_3(x)\n",
    "        \n",
    "        return self.softmax(x)"
   ]
  },
  {
   "cell_type": "code",
   "execution_count": 17,
   "metadata": {},
   "outputs": [
    {
     "output_type": "stream",
     "name": "stdout",
     "text": "tf.Tensor(\n[[6.9811435e-06 6.9811435e-06 6.9811435e-06 ... 6.9811435e-06\n  6.9811435e-06 6.9811435e-06]], shape=(1, 10000), dtype=float32)\nModel: \"my_model_3\"\n_________________________________________________________________\nLayer (type)                 Output Shape              Param #   \n=================================================================\nmy_layer_2 (MyLayer)         multiple                  640064    \n_________________________________________________________________\nmy_dropout (MyDropout)       multiple                  0         \n_________________________________________________________________\nmy_layer_3 (MyLayer)         multiple                  4160      \n_________________________________________________________________\nmy_dropout_1 (MyDropout)     multiple                  0         \n_________________________________________________________________\nmy_layer_4 (MyLayer)         multiple                  2990      \n_________________________________________________________________\nsoftmax_1 (Softmax)          multiple                  0         \n=================================================================\nTotal params: 647,214\nTrainable params: 0\nNon-trainable params: 647,214\n_________________________________________________________________\n"
    }
   ],
   "source": [
    "# Instantiate a model object\n",
    "\n",
    "model = MyModel(64,10000,64,46)\n",
    "print(model(tf.ones((1, 10000))))\n",
    "model.summary()"
   ]
  },
  {
   "cell_type": "code",
   "execution_count": null,
   "metadata": {},
   "outputs": [],
   "source": []
  }
 ],
 "metadata": {
  "language_info": {
   "codemirror_mode": {
    "name": "ipython",
    "version": 3
   },
   "file_extension": ".py",
   "mimetype": "text/x-python",
   "name": "python",
   "nbconvert_exporter": "python",
   "pygments_lexer": "ipython3",
   "version": "3.7.4-final"
  },
  "orig_nbformat": 2,
  "kernelspec": {
   "name": "python37464bitbaseconda1739cfd028d24531b3732f0a542be57d",
   "display_name": "Python 3.7.4 64-bit ('base': conda)"
  }
 },
 "nbformat": 4,
 "nbformat_minor": 2
}